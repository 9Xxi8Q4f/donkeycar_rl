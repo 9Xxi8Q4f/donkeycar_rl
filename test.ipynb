{
 "cells": [
  {
   "cell_type": "code",
   "execution_count": null,
   "metadata": {},
   "outputs": [],
   "source": [
    "import os\n",
    "import gym\n",
    "import gym_donkeycar\n",
    "import numpy as np\n",
    "\n",
    "path = f\"/home/o/Applications/DonkeySimLinux/\"\n",
    "app_path = f\"{path}/donkey_sim.x86_64\"\n",
    "\n",
    "port = 9091\n",
    "\n",
    "conf = {\n",
    "    \"exe_path\": app_path,\n",
    "    \"port\": port\n",
    "}\n",
    "\n",
    "env = gym.make(\"donkey-generated-roads-v0\", conf=conf)\n",
    "\n",
    "obs = env.reset()\n",
    "\n",
    "for i in range(100):\n",
    "    action = env.action_space.sample() #! does this work?\n",
    "    obs, reward, done, info = env.step(action)\n",
    "    print(obs, reward, done, info)\n",
    "\n",
    "env.close()"
   ]
  }
 ],
 "metadata": {
  "kernelspec": {
   "display_name": ".venv",
   "language": "python",
   "name": "python3"
  },
  "language_info": {
   "name": "python",
   "version": "3.11.7"
  }
 },
 "nbformat": 4,
 "nbformat_minor": 2
}
